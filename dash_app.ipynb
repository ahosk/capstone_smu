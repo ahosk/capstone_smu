{
 "cells": [
  {
   "cell_type": "code",
   "execution_count": 1,
   "metadata": {},
   "outputs": [],
   "source": [
    "from dash import dash_table\n",
    "import pandas as pd"
   ]
  },
  {
   "cell_type": "code",
   "execution_count": null,
   "metadata": {},
   "outputs": [],
   "source": []
  },
  {
   "cell_type": "code",
   "execution_count": 8,
   "metadata": {},
   "outputs": [],
   "source": [
    "\n",
    "\n",
    "df_true = pd.read_csv(r'../Dashboard/Dash_Data_final.csv',delimiter=',',low_memory=False)\n",
    "df_pred = pd.read_csv(r'../Dashboard/Dash_Data_pred.csv',delimiter=',',low_memory=False)\n"
   ]
  },
  {
   "cell_type": "code",
   "execution_count": null,
   "metadata": {},
   "outputs": [],
   "source": []
  },
  {
   "cell_type": "code",
   "execution_count": 9,
   "metadata": {},
   "outputs": [
    {
     "data": {
      "text/html": [
       "<div>\n",
       "<style scoped>\n",
       "    .dataframe tbody tr th:only-of-type {\n",
       "        vertical-align: middle;\n",
       "    }\n",
       "\n",
       "    .dataframe tbody tr th {\n",
       "        vertical-align: top;\n",
       "    }\n",
       "\n",
       "    .dataframe thead th {\n",
       "        text-align: right;\n",
       "    }\n",
       "</style>\n",
       "<table border=\"1\" class=\"dataframe\">\n",
       "  <thead>\n",
       "    <tr style=\"text-align: right;\">\n",
       "      <th></th>\n",
       "      <th>Date</th>\n",
       "      <th>ticker</th>\n",
       "      <th>Mkt_Cap</th>\n",
       "      <th>Year</th>\n",
       "      <th>Sub_Industry</th>\n",
       "      <th>Sector</th>\n",
       "      <th>FWD_Return_3M_Class</th>\n",
       "      <th>Pred_FWD_EPS_3M_GR</th>\n",
       "      <th>Pred_FWD_REV_3M_GR</th>\n",
       "      <th>Pred_FPE_3M_REV</th>\n",
       "      <th>...</th>\n",
       "      <th>FPE_6M_Rev</th>\n",
       "      <th>FPE_3M_Rev_REL</th>\n",
       "      <th>FPE_3M_Rev</th>\n",
       "      <th>FPE_1M_Rev_REL</th>\n",
       "      <th>FPE_1M_Rev</th>\n",
       "      <th>FPE_5Y_Pct_REL</th>\n",
       "      <th>FPE_5Y_Pct</th>\n",
       "      <th>FPE_vRIY_REL</th>\n",
       "      <th>FPE_vRIY</th>\n",
       "      <th>FPE</th>\n",
       "    </tr>\n",
       "  </thead>\n",
       "  <tbody>\n",
       "    <tr>\n",
       "      <th>0</th>\n",
       "      <td>6/24/2022</td>\n",
       "      <td>GOOGL-US</td>\n",
       "      <td>1554351.3</td>\n",
       "      <td>2022</td>\n",
       "      <td>Interactive Media &amp; Services</td>\n",
       "      <td>Communication Services</td>\n",
       "      <td>NaN</td>\n",
       "      <td>NaN</td>\n",
       "      <td>NaN</td>\n",
       "      <td>NaN</td>\n",
       "      <td>...</td>\n",
       "      <td>-0.224718</td>\n",
       "      <td>79.5</td>\n",
       "      <td>-0.125993</td>\n",
       "      <td>11.1</td>\n",
       "      <td>0.079148</td>\n",
       "      <td>12.6</td>\n",
       "      <td>3.8</td>\n",
       "      <td>58.9</td>\n",
       "      <td>1.137355</td>\n",
       "      <td>16.772</td>\n",
       "    </tr>\n",
       "    <tr>\n",
       "      <th>1</th>\n",
       "      <td>6/24/2022</td>\n",
       "      <td>AAPL-US</td>\n",
       "      <td>2295964.3</td>\n",
       "      <td>2022</td>\n",
       "      <td>Technology Hardware Storage &amp; Peripherals</td>\n",
       "      <td>Information Technology</td>\n",
       "      <td>NaN</td>\n",
       "      <td>NaN</td>\n",
       "      <td>NaN</td>\n",
       "      <td>NaN</td>\n",
       "      <td>...</td>\n",
       "      <td>-0.244278</td>\n",
       "      <td>75.9</td>\n",
       "      <td>-0.102914</td>\n",
       "      <td>31.7</td>\n",
       "      <td>0.015990</td>\n",
       "      <td>69.2</td>\n",
       "      <td>73.7</td>\n",
       "      <td>77.8</td>\n",
       "      <td>1.495270</td>\n",
       "      <td>22.050</td>\n",
       "    </tr>\n",
       "    <tr>\n",
       "      <th>2</th>\n",
       "      <td>6/24/2022</td>\n",
       "      <td>MSFT-US</td>\n",
       "      <td>2003199.3</td>\n",
       "      <td>2022</td>\n",
       "      <td>Systems Software</td>\n",
       "      <td>Information Technology</td>\n",
       "      <td>NaN</td>\n",
       "      <td>NaN</td>\n",
       "      <td>NaN</td>\n",
       "      <td>NaN</td>\n",
       "      <td>...</td>\n",
       "      <td>-0.248824</td>\n",
       "      <td>48.6</td>\n",
       "      <td>0.002423</td>\n",
       "      <td>14.4</td>\n",
       "      <td>0.065940</td>\n",
       "      <td>70.5</td>\n",
       "      <td>75.6</td>\n",
       "      <td>84.5</td>\n",
       "      <td>1.697962</td>\n",
       "      <td>25.039</td>\n",
       "    </tr>\n",
       "    <tr>\n",
       "      <th>3</th>\n",
       "      <td>6/24/2022</td>\n",
       "      <td>AMZN-US</td>\n",
       "      <td>1185562.8</td>\n",
       "      <td>2022</td>\n",
       "      <td>Internet &amp; Direct Marketing Retail</td>\n",
       "      <td>Consumer Discretionary</td>\n",
       "      <td>NaN</td>\n",
       "      <td>NaN</td>\n",
       "      <td>NaN</td>\n",
       "      <td>NaN</td>\n",
       "      <td>...</td>\n",
       "      <td>0.057299</td>\n",
       "      <td>1.6</td>\n",
       "      <td>0.418054</td>\n",
       "      <td>0.8</td>\n",
       "      <td>0.278026</td>\n",
       "      <td>54.6</td>\n",
       "      <td>51.7</td>\n",
       "      <td>96.4</td>\n",
       "      <td>2.976639</td>\n",
       "      <td>43.895</td>\n",
       "    </tr>\n",
       "    <tr>\n",
       "      <th>4</th>\n",
       "      <td>6/24/2022</td>\n",
       "      <td>BRK.A-US</td>\n",
       "      <td>613945.1</td>\n",
       "      <td>2022</td>\n",
       "      <td>Other</td>\n",
       "      <td>Other</td>\n",
       "      <td>NaN</td>\n",
       "      <td>NaN</td>\n",
       "      <td>NaN</td>\n",
       "      <td>NaN</td>\n",
       "      <td>...</td>\n",
       "      <td>0.263892</td>\n",
       "      <td>63.6</td>\n",
       "      <td>-0.047423</td>\n",
       "      <td>92.2</td>\n",
       "      <td>-0.127839</td>\n",
       "      <td>85.9</td>\n",
       "      <td>93.1</td>\n",
       "      <td>78.7</td>\n",
       "      <td>1.524633</td>\n",
       "      <td>22.483</td>\n",
       "    </tr>\n",
       "  </tbody>\n",
       "</table>\n",
       "<p>5 rows × 383 columns</p>\n",
       "</div>"
      ],
      "text/plain": [
       "        Date    ticker    Mkt_Cap  Year  \\\n",
       "0  6/24/2022  GOOGL-US  1554351.3  2022   \n",
       "1  6/24/2022   AAPL-US  2295964.3  2022   \n",
       "2  6/24/2022   MSFT-US  2003199.3  2022   \n",
       "3  6/24/2022   AMZN-US  1185562.8  2022   \n",
       "4  6/24/2022  BRK.A-US   613945.1  2022   \n",
       "\n",
       "                                Sub_Industry                  Sector  \\\n",
       "0               Interactive Media & Services  Communication Services   \n",
       "1  Technology Hardware Storage & Peripherals  Information Technology   \n",
       "2                           Systems Software  Information Technology   \n",
       "3         Internet & Direct Marketing Retail  Consumer Discretionary   \n",
       "4                                      Other                   Other   \n",
       "\n",
       "   FWD_Return_3M_Class  Pred_FWD_EPS_3M_GR  Pred_FWD_REV_3M_GR  \\\n",
       "0                  NaN                 NaN                 NaN   \n",
       "1                  NaN                 NaN                 NaN   \n",
       "2                  NaN                 NaN                 NaN   \n",
       "3                  NaN                 NaN                 NaN   \n",
       "4                  NaN                 NaN                 NaN   \n",
       "\n",
       "   Pred_FPE_3M_REV  ...  FPE_6M_Rev  FPE_3M_Rev_REL  FPE_3M_Rev  \\\n",
       "0              NaN  ...   -0.224718            79.5   -0.125993   \n",
       "1              NaN  ...   -0.244278            75.9   -0.102914   \n",
       "2              NaN  ...   -0.248824            48.6    0.002423   \n",
       "3              NaN  ...    0.057299             1.6    0.418054   \n",
       "4              NaN  ...    0.263892            63.6   -0.047423   \n",
       "\n",
       "   FPE_1M_Rev_REL  FPE_1M_Rev  FPE_5Y_Pct_REL  FPE_5Y_Pct  FPE_vRIY_REL  \\\n",
       "0            11.1    0.079148            12.6         3.8          58.9   \n",
       "1            31.7    0.015990            69.2        73.7          77.8   \n",
       "2            14.4    0.065940            70.5        75.6          84.5   \n",
       "3             0.8    0.278026            54.6        51.7          96.4   \n",
       "4            92.2   -0.127839            85.9        93.1          78.7   \n",
       "\n",
       "   FPE_vRIY     FPE  \n",
       "0  1.137355  16.772  \n",
       "1  1.495270  22.050  \n",
       "2  1.697962  25.039  \n",
       "3  2.976639  43.895  \n",
       "4  1.524633  22.483  \n",
       "\n",
       "[5 rows x 383 columns]"
      ]
     },
     "execution_count": 9,
     "metadata": {},
     "output_type": "execute_result"
    }
   ],
   "source": [
    "df_true.head()"
   ]
  },
  {
   "cell_type": "code",
   "execution_count": 13,
   "metadata": {},
   "outputs": [
    {
     "data": {
      "text/plain": [
       "(1956, 9)"
      ]
     },
     "execution_count": 13,
     "metadata": {},
     "output_type": "execute_result"
    }
   ],
   "source": [
    "df_true.shape\n",
    "df_pred.shape"
   ]
  },
  {
   "cell_type": "code",
   "execution_count": 10,
   "metadata": {},
   "outputs": [
    {
     "data": {
      "text/html": [
       "<div>\n",
       "<style scoped>\n",
       "    .dataframe tbody tr th:only-of-type {\n",
       "        vertical-align: middle;\n",
       "    }\n",
       "\n",
       "    .dataframe tbody tr th {\n",
       "        vertical-align: top;\n",
       "    }\n",
       "\n",
       "    .dataframe thead th {\n",
       "        text-align: right;\n",
       "    }\n",
       "</style>\n",
       "<table border=\"1\" class=\"dataframe\">\n",
       "  <thead>\n",
       "    <tr style=\"text-align: right;\">\n",
       "      <th></th>\n",
       "      <th>1</th>\n",
       "      <th>Date</th>\n",
       "      <th>ticker</th>\n",
       "      <th>Pred_FWD_EPS_3M_GR</th>\n",
       "      <th>Pred_FWD_REV_3M_GR</th>\n",
       "      <th>Pred_FPE_3M_REV</th>\n",
       "      <th>Pred_EVS_3M_REV</th>\n",
       "      <th>Pred_DY_3M_REV</th>\n",
       "      <th>Pred_PB_3M_REV</th>\n",
       "    </tr>\n",
       "  </thead>\n",
       "  <tbody>\n",
       "    <tr>\n",
       "      <th>0</th>\n",
       "      <td>0.538212</td>\n",
       "      <td>12/27/2019</td>\n",
       "      <td>GOOGL-US</td>\n",
       "      <td>40.76468</td>\n",
       "      <td>10.680604</td>\n",
       "      <td>50.256240</td>\n",
       "      <td>64.206400</td>\n",
       "      <td>NaN</td>\n",
       "      <td>50.317370</td>\n",
       "    </tr>\n",
       "    <tr>\n",
       "      <th>1</th>\n",
       "      <td>0.477541</td>\n",
       "      <td>12/27/2019</td>\n",
       "      <td>AAPL-US</td>\n",
       "      <td>46.99255</td>\n",
       "      <td>51.638573</td>\n",
       "      <td>64.565180</td>\n",
       "      <td>60.785420</td>\n",
       "      <td>53.656746</td>\n",
       "      <td>47.536630</td>\n",
       "    </tr>\n",
       "    <tr>\n",
       "      <th>2</th>\n",
       "      <td>0.578599</td>\n",
       "      <td>12/27/2019</td>\n",
       "      <td>MSFT-US</td>\n",
       "      <td>43.89918</td>\n",
       "      <td>54.785347</td>\n",
       "      <td>48.292046</td>\n",
       "      <td>43.991140</td>\n",
       "      <td>47.449770</td>\n",
       "      <td>42.275060</td>\n",
       "    </tr>\n",
       "    <tr>\n",
       "      <th>3</th>\n",
       "      <td>0.438391</td>\n",
       "      <td>12/27/2019</td>\n",
       "      <td>AMZN-US</td>\n",
       "      <td>40.92875</td>\n",
       "      <td>19.517736</td>\n",
       "      <td>44.451122</td>\n",
       "      <td>60.239403</td>\n",
       "      <td>NaN</td>\n",
       "      <td>71.971660</td>\n",
       "    </tr>\n",
       "    <tr>\n",
       "      <th>4</th>\n",
       "      <td>0.522890</td>\n",
       "      <td>12/27/2019</td>\n",
       "      <td>BRK.A-US</td>\n",
       "      <td>49.22366</td>\n",
       "      <td>48.855457</td>\n",
       "      <td>49.059322</td>\n",
       "      <td>50.702873</td>\n",
       "      <td>NaN</td>\n",
       "      <td>49.651253</td>\n",
       "    </tr>\n",
       "  </tbody>\n",
       "</table>\n",
       "</div>"
      ],
      "text/plain": [
       "          1        Date    ticker  Pred_FWD_EPS_3M_GR  Pred_FWD_REV_3M_GR  \\\n",
       "0  0.538212  12/27/2019  GOOGL-US            40.76468           10.680604   \n",
       "1  0.477541  12/27/2019   AAPL-US            46.99255           51.638573   \n",
       "2  0.578599  12/27/2019   MSFT-US            43.89918           54.785347   \n",
       "3  0.438391  12/27/2019   AMZN-US            40.92875           19.517736   \n",
       "4  0.522890  12/27/2019  BRK.A-US            49.22366           48.855457   \n",
       "\n",
       "   Pred_FPE_3M_REV  Pred_EVS_3M_REV  Pred_DY_3M_REV  Pred_PB_3M_REV  \n",
       "0        50.256240        64.206400             NaN       50.317370  \n",
       "1        64.565180        60.785420       53.656746       47.536630  \n",
       "2        48.292046        43.991140       47.449770       42.275060  \n",
       "3        44.451122        60.239403             NaN       71.971660  \n",
       "4        49.059322        50.702873             NaN       49.651253  "
      ]
     },
     "execution_count": 10,
     "metadata": {},
     "output_type": "execute_result"
    }
   ],
   "source": [
    "df_pred.head()"
   ]
  },
  {
   "cell_type": "code",
   "execution_count": 17,
   "metadata": {},
   "outputs": [],
   "source": [
    "df_pred.to_pickle(r'../Dashboard/dash_data_pred.pkl.gzip',compression='gzip')\n",
    "df_true.to_pickle(r'../Dashboard/dash_data_true.pkl.gzip',compression='gzip')"
   ]
  },
  {
   "cell_type": "code",
   "execution_count": 2,
   "metadata": {},
   "outputs": [],
   "source": [
    "df_pred = pd.read_pickle(r'../Dashboard/dash_data_pred.pkl.gzip',compression='gzip')\n",
    "df_true = pd.read_pickle(r'../Dashboard/dash_data_true.pkl.gzip',compression='gzip')"
   ]
  },
  {
   "cell_type": "code",
   "execution_count": 7,
   "metadata": {},
   "outputs": [],
   "source": [
    "df_true['ticker'] = df_true['ticker'].str.replace(r'-US','')\n"
   ]
  },
  {
   "cell_type": "code",
   "execution_count": 29,
   "metadata": {},
   "outputs": [
    {
     "data": {
      "text/plain": [
       "array(['12/27/2019', '4/3/2020', '7/2/2020'], dtype=object)"
      ]
     },
     "execution_count": 29,
     "metadata": {},
     "output_type": "execute_result"
    }
   ],
   "source": [
    "df_pred['Date'].unique()"
   ]
  },
  {
   "cell_type": "code",
   "execution_count": 31,
   "metadata": {},
   "outputs": [
    {
     "data": {
      "text/plain": [
       "{'1': 0.47754136,\n",
       " 'Date': '12/27/2019',\n",
       " 'ticker': 'AAPL-US',\n",
       " 'Pred_FWD_EPS_3M_GR': 46.99255,\n",
       " 'Pred_FWD_REV_3M_GR': 51.638573,\n",
       " 'Pred_FPE_3M_REV': 64.56518,\n",
       " 'Pred_EVS_3M_REV': 60.78542,\n",
       " 'Pred_DY_3M_REV': 53.656746,\n",
       " 'Pred_PB_3M_REV': 47.53663}"
      ]
     },
     "execution_count": 31,
     "metadata": {},
     "output_type": "execute_result"
    }
   ],
   "source": [
    "df_pred[(df_pred['ticker']== 'AAPL-US' ) & (df_pred['Date']=='12/27/2019')].iloc[0].to_dict()"
   ]
  },
  {
   "cell_type": "code",
   "execution_count": 9,
   "metadata": {},
   "outputs": [
    {
     "data": {
      "text/plain": [
       "array(['GOOGL', 'AAPL', 'MSFT', 'AMZN', 'BRK.A', 'UNH', 'JNJ', 'V',\n",
       "       'NVDA', 'XOM', 'WMT', 'MA', 'JPM', 'PG', 'CVX', 'LLY', 'HD', 'PFE',\n",
       "       'KO', 'BAC', 'PEP', 'COST', 'TMO', 'MRK', 'AVGO', 'DHR', 'ORCL',\n",
       "       'ACN', 'MCD', 'VZ', 'DIS', 'ADBE', 'ABT', 'CSCO', 'CRM', 'NKE',\n",
       "       'TMUS', 'UPS', 'WFC', 'NEE', 'CMCSA', 'TXN', 'QCOM', 'BMY', 'AMD',\n",
       "       'PM', 'INTC', 'MS', 'UNP', 'RTX', 'T', 'SCHW', 'AMGN', 'HON',\n",
       "       'INTU', 'SPGI', 'COP', 'CVS', 'BX', 'MDT', 'LOW', 'GS', 'IBM',\n",
       "       'AXP', 'ELV', 'LMT', 'CAT', 'DE', 'BLK', 'C', 'NFLX', 'ADP', 'EL',\n",
       "       'SBUX', 'BA', 'AMAT', 'ADI', 'MDLZ', 'CI', 'DUK', 'ISRG', 'MMC',\n",
       "       'SYK', 'MMM', 'SO', 'GE', 'MO', 'CB', 'BKNG', 'TGT', 'GILD', 'NOC',\n",
       "       'CME', 'VRTX', 'TJX', 'USB', 'BDX', 'CSX', 'PNC', 'WM', 'MU',\n",
       "       'LRCX', 'FISV', 'PGR', 'TFC', 'D', 'CL', 'EOG', 'ITW', 'REGN',\n",
       "       'SHW', 'EW', 'ATVI', 'FIS', 'GD', 'AON', 'OXY', 'HUM', 'FDX',\n",
       "       'ETN', 'NSC', 'BSX', 'F', 'KLAC', 'PXD', 'MCO', 'ICE', 'DG',\n",
       "       'SNPS', 'APD', 'KDP', 'TRI-CA', 'CNC', 'EMR', 'MNST', 'SLB', 'SRE',\n",
       "       'MAR', 'MET', 'AEP', 'CDNS', 'VMW', 'MCK', 'LEN', 'FTNT', 'ECL',\n",
       "       'MRVL', 'STZ', 'HSY', 'ADSK', 'ROP', 'ADM', 'PAYX', 'APH', 'FCX',\n",
       "       'EXC', 'LHX', 'ORLY', 'GIS', 'KMB', 'RSG', 'CMG', 'VLO', 'SYY',\n",
       "       'CTAS', 'COF', 'AZO', 'WMB', 'DVN', 'AIG', 'XEL', 'A', 'MSI',\n",
       "       'LULU', 'SCCO', 'MSCI', 'MCHP', 'LNG', 'HEI', 'PRU', 'AJG', 'TRV',\n",
       "       'JCI', 'PH', 'AFL', 'DLTR', 'EA', 'NEM', 'NUE', 'HES', 'ED',\n",
       "       'BF.B', 'RMD', 'CTSH', 'BK', 'YUM', 'GPN', 'ODFL', 'HPQ', 'TT',\n",
       "       'WBA', 'TDG', 'ILMN', 'IDXX', 'KR', 'SGEN', 'PEG', 'WEC', 'ALL',\n",
       "       'DXCM', 'PCAR', 'TSN', 'IFF', 'BIIB', 'MTB', 'PARA', 'CMI', 'GLW',\n",
       "       'ABC', 'ES', 'PPG', 'CPRT', 'MTD', 'VRSK', 'AMP', 'NDAQ', 'FAST',\n",
       "       'ROK', 'BAX', 'ON', 'LVS', 'ALB', 'CSGP', 'AME', 'ROST', 'AWK',\n",
       "       'TROW', 'GWW', 'DFS', 'EBAY', 'DHI', 'HRL', 'OKE', 'HAL', 'STT',\n",
       "       'SIRI', 'EIX', 'EFX', 'WST', 'DTE', 'CLR', 'IBKR', 'K', 'CTRA',\n",
       "       'LH', 'ANSS', 'SIVB', 'AEE', 'FE', 'MKC', 'FITB', 'ETR', 'BALL',\n",
       "       'ZBH', 'WTW', 'URI', 'STE', 'LUV', 'ALGN', 'VMC', 'MLM', 'WAT',\n",
       "       'MPWR', 'GPC', 'PCG', 'LYV', 'CHD', 'TSCO', 'PPL', 'IT', 'RJF',\n",
       "       'HIG', 'NTRS', 'DAL', 'ULTA', 'VRSN', 'CMS', 'CNP', 'PWR', 'CF',\n",
       "       'RF', 'PKI', 'DOV', 'HBAN', 'ROL', 'JBHT', 'MOH', 'BR', 'MOS',\n",
       "       'GRMN', 'ZBRA', 'BRO', 'TDY', 'EXPD', 'HOLX', 'J', 'MKL', 'SWKS',\n",
       "       'MRO', 'CLX', 'BBY', 'TRMB', 'VFC', 'INCY', 'WAB', 'KEY', 'PODD',\n",
       "       'ALNY', 'PFG', 'ATO', 'TYL', 'WRB', 'EXPE', 'BIO', 'ACGL', 'CAG',\n",
       "       'ENTG', 'FDS', 'COO', 'EQT', 'TER', 'CAH', 'DGX', 'BMRN', 'KMX',\n",
       "       'IEX', 'NTAP', 'AVY', 'DRI', 'CINF', 'IP', 'AKAM', 'LNT', 'WDC',\n",
       "       'CSL', 'LKQ', 'JKHY', 'TECH', 'AES', 'CPB', 'LDOS', 'STLD', 'PTC',\n",
       "       'NVR', 'OMC', 'SWK', 'POOL', 'DPZ', 'SJM', 'FMC', 'BG', 'TXT',\n",
       "       'MGM', 'NLOK', 'BEN', 'CHRW', 'WTRG', 'ABMD', 'NDSN', 'OVV', 'PKG',\n",
       "       'TAP', 'CTXS', 'CE', 'CRL', 'APA', 'MAS', 'WLK', 'EMN', 'NI',\n",
       "       'CCK', 'PLUG', 'FHN', 'UAL', 'FCNCA', 'SNA', 'FICO', 'SCI', 'SBNY',\n",
       "       'HUBB', 'VTRS', 'BLDR', 'AAP', 'IPG', 'RPM', 'CNA', 'RS', 'AFG',\n",
       "       'GGG', 'LUMN', 'DAR', 'QGEN', 'NLY', 'TFX', 'CCL', 'HSIC', 'HAS',\n",
       "       'MORN', 'DOX', 'FSLR', 'DINO', 'ERIE', 'WSO', 'UHAL', 'GME',\n",
       "       'WOLF', 'UTHR', 'RE', 'BRKR', 'CMA', 'EWBC', 'ACM', 'PHM', 'MKTX',\n",
       "       'GL', 'FFIV', 'WSM', 'RCL', 'AOS', 'JAZZ', 'SNX', 'AIZ', 'MTN',\n",
       "       'WHR', 'DISH', 'BWA', 'CLF', 'H', 'AA', 'UGI', 'JNPR', 'RRX',\n",
       "       'TTC', 'LEA', 'NRG', 'NBIX', 'CAR', 'SEE', 'OC', 'LNC', 'G',\n",
       "       'CGNX', 'MANH', 'RHI', 'RRC', 'ARW', 'PAG', 'LII', 'NWL', 'CFR',\n",
       "       'LSCC', 'TPR', 'CBSH', 'WAL', 'UHS', 'PNW', 'DECK', 'TTEK', 'OGE',\n",
       "       'MHK', 'AGCO', 'JBL', 'ZION', 'WBS', 'LECO', 'MAT', 'IVZ', 'SRPT',\n",
       "       'PNR', 'BBWI', 'MASI', 'DVA', 'CHDN', 'EXAS', 'MIDD', 'SWN',\n",
       "       'AXON', 'DLB', 'XRAY', 'RGA', 'CIEN', 'OLN', 'CACC', 'NXST',\n",
       "       'CASY', 'DKS', 'SEIC', 'KBR', 'LAD', 'WEX', 'WYNN', 'STWD', 'TREX',\n",
       "       'NOV', 'ORI', 'CHE', 'ATR', 'THC', 'CACI', 'PII', 'LFUS', 'GPK',\n",
       "       'RGLD', 'RL', 'IIVI', 'QDEL', 'PB', 'CHH', 'EXEL', 'AN', 'DCI',\n",
       "       'NFG', 'MKSI', 'GNTX', 'AGNC', 'COHR', 'WU', 'WCC', 'PDCE', 'UNM',\n",
       "       'SF', 'HRB', 'BPOP', 'WWD', 'ITT', 'SON', 'X', 'HUN', 'PNFP',\n",
       "       'BYD', 'BC', 'INGR', 'MTZ', 'FLO', 'BOKF', 'AYI', 'SNV', 'SKX',\n",
       "       'VMI', 'MDU', 'LSTR', 'PENN', 'FCN', 'TOL', 'RNR', 'IDA', 'PRGO',\n",
       "       'ALK', 'OSK', 'CR', 'CW', 'HOG', 'IPGP', 'OLED', 'ASH', 'MUR',\n",
       "       'CLH', 'IONS', 'NYT', 'LEG', 'WTFC', 'LPX', 'WWE', 'AZTA', 'HXL',\n",
       "       'EHC', 'MSA', 'SM', 'NYCB', 'EEFT', 'AMG', 'NATI', 'SLGN', 'SMG',\n",
       "       'HP', 'TKR', 'THG', 'OZK', 'TPX', 'CRUS', 'EXP', 'M', 'TGNA',\n",
       "       'AVT', 'SAM', 'HE', 'COLM', 'MSM', 'IART', 'THO', 'WEN', 'NCR',\n",
       "       'MTG', 'FLS', 'JHG', 'SRCL', 'LAZ', 'ALKS', 'AXS', 'ICUI', 'NVAX',\n",
       "       'FNB', 'CBT', 'TFSL', 'AWI', 'MAN', 'PVH', 'UAA', 'EVR', 'R',\n",
       "       'TDC', 'DDS', 'AMED', 'HBI', 'SLM', 'UMPQ', 'KEX', 'AGO', 'JWN',\n",
       "       'WTM', 'KSS', 'FLR', 'PTEN', 'TNL', 'HAE', 'MRTX', 'SSRM-CA',\n",
       "       'GPS', 'SPWR', 'SPR', 'GT', 'MRCY', 'PACW', 'CNX', 'BOH', 'PEGA',\n",
       "       'ENOV', 'CRI', 'FHI', 'LOPE', 'PDCO', 'KMPR'], dtype=object)"
      ]
     },
     "execution_count": 9,
     "metadata": {},
     "output_type": "execute_result"
    }
   ],
   "source": [
    "df_true['ticker'].unique()"
   ]
  },
  {
   "cell_type": "code",
   "execution_count": 32,
   "metadata": {},
   "outputs": [],
   "source": [
    "import yahoo_fin.stock_info as yf\n",
    "def quotes_generator(ticker='AAPL'):\n",
    "    # info table\n",
    "    current_stock = yf.get_quote_table(ticker, dict_result=False)\n",
    "    columns = [{\"name\": i, \"id\": i} for i in current_stock.columns]\n",
    "    t_data = current_stock.to_dict(\"records\")\n",
    "\n",
    "    # price\n",
    "\n",
    "    return columns, t_data"
   ]
  },
  {
   "cell_type": "code",
   "execution_count": 34,
   "metadata": {},
   "outputs": [
    {
     "ename": "TypeError",
     "evalue": "quotes_generator() missing 1 required positional argument: 'n_clicks'",
     "output_type": "error",
     "traceback": [
      "\u001b[0;31m---------------------------------------------------------------------------\u001b[0m",
      "\u001b[0;31mTypeError\u001b[0m                                 Traceback (most recent call last)",
      "\u001b[1;32m/Users/allen/Desktop/MSDS/Capstone/capstone_smu/dash_app.ipynb Cell 15\u001b[0m in \u001b[0;36m<cell line: 1>\u001b[0;34m()\u001b[0m\n\u001b[0;32m----> <a href='vscode-notebook-cell:/Users/allen/Desktop/MSDS/Capstone/capstone_smu/dash_app.ipynb#ch0000018?line=0'>1</a>\u001b[0m quotes_generator()\n",
      "\u001b[0;31mTypeError\u001b[0m: quotes_generator() missing 1 required positional argument: 'n_clicks'"
     ]
    }
   ],
   "source": [
    "quotes_generator()"
   ]
  }
 ],
 "metadata": {
  "kernelspec": {
   "display_name": "Python 3.9.13 ('CAPSTONE')",
   "language": "python",
   "name": "python3"
  },
  "language_info": {
   "codemirror_mode": {
    "name": "ipython",
    "version": 3
   },
   "file_extension": ".py",
   "mimetype": "text/x-python",
   "name": "python",
   "nbconvert_exporter": "python",
   "pygments_lexer": "ipython3",
   "version": "3.9.13"
  },
  "orig_nbformat": 4,
  "vscode": {
   "interpreter": {
    "hash": "d6a98570ff4f2afc8b87b4d1470218c46c141e446b49c087e3cde1f090a65421"
   }
  }
 },
 "nbformat": 4,
 "nbformat_minor": 2
}
